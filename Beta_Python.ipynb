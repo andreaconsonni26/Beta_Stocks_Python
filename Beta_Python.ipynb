{
 "cells": [
  {
   "cell_type": "markdown",
   "metadata": {},
   "source": [
    "# AN EXAMPLE OF TESLA'S BETA CALCULATION"
   ]
  },
  {
   "cell_type": "markdown",
   "metadata": {},
   "source": [
    "### Given the known formulas\n",
    "# $R_{appl}(t) = \\alpha + \\beta * R_{gspc}(t) + \\epsilon (t) $ <br>\n",
    "# $\\beta = \\frac{\\sigma_{appl,gspc}}{\\sigma_{gspc}}$ <br>\n",
    "### where: <br>\n",
    "### $R_{tsla}$ :  is the excess return of the stock and $R_{gspc}$ is excess return of the index (here I use S&P500). <br>\n",
    "### $\\beta$ :  is the amount by which the security return tends to increase or decrease for every 1% increase or decrease in the return on the index\n",
    "### $\\alpha$ :  is the stock's outperformance/underperformance compared to the market excess return\n",
    "### $\\epsilon$ :  is the zero-mean, firm-specific surprise in the security return in month t, also called the residual<br>\n",
    "### NB: To make things simple assume risk free rate = 0 <br>"
   ]
  },
  {
   "cell_type": "code",
   "execution_count": 44,
   "metadata": {},
   "outputs": [],
   "source": [
    "import yfinance as yf\n",
    "import mplfinance as mpf\n",
    "\n",
    "import numpy as np\n",
    "import pandas as pd\n",
    "\n",
    "from scipy import stats\n",
    "from sklearn.linear_model import LinearRegression\n",
    "\n",
    "# matplotlib & seaborn -> plotting\n",
    "from matplotlib import pyplot as plt\n",
    "from mpl_toolkits.mplot3d import Axes3D\n",
    "import seaborn as sns"
   ]
  },
  {
   "cell_type": "markdown",
   "metadata": {},
   "source": [
    "# Method 1"
   ]
  },
  {
   "cell_type": "code",
   "execution_count": 45,
   "metadata": {},
   "outputs": [],
   "source": [
    "Apple = yf.Ticker(\"AAPL\")"
   ]
  },
  {
   "cell_type": "code",
   "execution_count": 46,
   "metadata": {},
   "outputs": [
    {
     "data": {
      "text/plain": [
       "1.203743"
      ]
     },
     "execution_count": 46,
     "metadata": {},
     "output_type": "execute_result"
    }
   ],
   "source": [
    "Apple.info[\"beta\"]"
   ]
  },
  {
   "cell_type": "markdown",
   "metadata": {},
   "source": [
    "### In this way we get beta as YahooFinance calculate it: Yahoo Finance calculates beta from monthly prices over a time of 5 years."
   ]
  },
  {
   "cell_type": "markdown",
   "metadata": {},
   "source": [
    "# Method 2"
   ]
  },
  {
   "cell_type": "markdown",
   "metadata": {},
   "source": [
    "### Using Method 2 we could set any parameter we would like, in this way we could obtain a beta\n",
    "### Why should someone set its own paramets?  if you visit different providers you could get different betas for the same stock, because each of them calculates the beta in a different way: for example, one provider could use 3-years monthly prices, another one 5-years monthly prices. Even the ‘market’ could have been choosen in a different way. <br>\n",
    "### Someone could be interest in calculating beta in a different way, for example X year beta, because the investment will be hold for X years. Here is the reason of setting paraments."
   ]
  },
  {
   "cell_type": "code",
   "execution_count": 107,
   "metadata": {},
   "outputs": [
    {
     "name": "stdout",
     "output_type": "stream",
     "text": [
      "[*********************100%***********************]  2 of 2 completed\n"
     ]
    }
   ],
   "source": [
    "df = yf.download(tickers=[\"AAPL\", \"^GSPC\"], start=\"2016-04-01\", end=\"2021-06-01\", interval=\"1mo\", group_by=\"ticker\")"
   ]
  },
  {
   "cell_type": "code",
   "execution_count": 110,
   "metadata": {},
   "outputs": [],
   "source": [
    "df.dropna(inplace=True)"
   ]
  },
  {
   "cell_type": "code",
   "execution_count": 152,
   "metadata": {},
   "outputs": [],
   "source": [
    "#return using normal log return\n",
    "apple = np.log(df[\"AAPL\"][\"Adj Close\"]) - np.log(df[\"AAPL\"][\"Adj Close\"].shift(1))\n",
    "apple = apple.drop(apple.index[0])\n",
    "\n",
    "gspc = np.log(df[\"^GSPC\"][\"Adj Close\"]) - np.log(df[\"^GSPC\"][\"Adj Close\"].shift(1))\n",
    "gspc = gspc.drop(gspc.index[0])\n",
    "\n",
    "#return using .pct_change: this method uses the following formulas (Current-Previous/Previous) * 100\n",
    "apple2 = df[\"AAPL\"][\"Adj Close\"].pct_change()\n",
    "apple2 = apple2.drop(apple2.index[0])\n",
    "\n",
    "gspc2 = df[\"^GSPC\"][\"Adj Close\"].pct_change()\n",
    "gspc2 = gspc2.drop(gspc2.index[0])"
   ]
  },
  {
   "cell_type": "code",
   "execution_count": 165,
   "metadata": {},
   "outputs": [],
   "source": [
    "y = np.array(apple)\n",
    "y2 = np.array(apple2)"
   ]
  },
  {
   "cell_type": "code",
   "execution_count": 166,
   "metadata": {},
   "outputs": [],
   "source": [
    "X = np.array(gspc).reshape((-1,1))\n",
    "X2 = np.array(gspc2).reshape((-1,1))"
   ]
  },
  {
   "cell_type": "markdown",
   "metadata": {},
   "source": [
    "### LinearRegression using sklearn"
   ]
  },
  {
   "cell_type": "code",
   "execution_count": 167,
   "metadata": {},
   "outputs": [],
   "source": [
    "lr = LinearRegression().fit(X,y)\n",
    "lr2 = LinearRegression().fit(X2,y2)"
   ]
  },
  {
   "cell_type": "code",
   "execution_count": 168,
   "metadata": {},
   "outputs": [
    {
     "name": "stdout",
     "output_type": "stream",
     "text": [
      "[1.17786743] [1.20324465]\n"
     ]
    }
   ],
   "source": [
    "print(lr.coef_ , lr2.coef_)"
   ]
  },
  {
   "cell_type": "markdown",
   "metadata": {},
   "source": [
    "### the difference we see is due to different formulas to calculate the return"
   ]
  },
  {
   "cell_type": "markdown",
   "metadata": {},
   "source": [
    "### LinearRegression using scipy"
   ]
  },
  {
   "cell_type": "code",
   "execution_count": 172,
   "metadata": {},
   "outputs": [
    {
     "name": "stdout",
     "output_type": "stream",
     "text": [
      "LinregressResult(slope=1.2032446549391507, intercept=0.017158476291125015, rvalue=0.6200124658755901, pvalue=9.897031325906491e-08, stderr=0.1982309064004462)\n"
     ]
    }
   ],
   "source": [
    "X2_ = X2.reshape((-1,1))\n",
    "regress_coefs = stats.linregress(gspc2 , apple2)\n",
    "print(regress_coefs)"
   ]
  },
  {
   "cell_type": "markdown",
   "metadata": {},
   "source": [
    "# Method 3"
   ]
  },
  {
   "cell_type": "code",
   "execution_count": 157,
   "metadata": {},
   "outputs": [
    {
     "name": "stdout",
     "output_type": "stream",
     "text": [
      "1.2032446549391507\n"
     ]
    }
   ],
   "source": [
    "a = df[\"AAPL\"][\"Adj Close\"].pct_change()\n",
    "a = a.drop(a.index[0])\n",
    "\n",
    "g = df[\"^GSPC\"][\"Adj Close\"].pct_change()\n",
    "g = g.drop(g.index[0])\n",
    "\n",
    "cov = a.cov(g) #Y\n",
    "var = g.var() #X\n",
    "\n",
    "beta = cov/var\n",
    "\n",
    "print(beta)"
   ]
  },
  {
   "cell_type": "markdown",
   "metadata": {},
   "source": [
    "# Graphs"
   ]
  },
  {
   "cell_type": "code",
   "execution_count": 160,
   "metadata": {},
   "outputs": [
    {
     "data": {
      "image/png": "[encoded data removed]",
      "text/plain": [
       "<Figure size 504x432 with 1 Axes>"
      ]
     },
     "metadata": {
      "needs_background": "light"
     },
     "output_type": "display_data"
    }
   ],
   "source": [
    "# compute the y values of the linear regression line\n",
    "y_pred3 = lr3.predict(X3)\n",
    "\n",
    "title = \"Simple linear regression\" + \"\\n\" + \"AAPL ~ S&P500\"\n",
    "\n",
    "plt.figure(figsize=(7, 6))\n",
    "plt.title(label=title)\n",
    "sns.scatterplot(x=t, y=g)\n",
    "sns.lineplot(x=g, y=y_pred3, linewidth=2, color=\"red\")\n",
    "plt.grid()\n",
    "plt.tight_layout()\n",
    "plt.show()"
   ]
  }
 ],
 "metadata": {
  "kernelspec": {
   "display_name": "Python 3",
   "language": "python",
   "name": "python3"
  },
  "language_info": {
   "codemirror_mode": {
    "name": "ipython",
    "version": 3
   },
   "file_extension": ".py",
   "mimetype": "text/x-python",
   "name": "python",
   "nbconvert_exporter": "python",
   "pygments_lexer": "ipython3",
   "version": "3.8.5"
  }
 },
 "nbformat": 4,
 "nbformat_minor": 4
}
